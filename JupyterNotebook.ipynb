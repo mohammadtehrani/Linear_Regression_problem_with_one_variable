{
 "cells": [
  {
   "cell_type": "markdown",
   "id": "0cea28ef-5a00-44d3-8002-2dad449defc0",
   "metadata": {
    "tags": []
   },
   "source": [
    "<h1>Mohammad Mehdi Dadkhah Tehrani</h1>"
   ]
  },
  {
   "cell_type": "markdown",
   "id": "d7baf124-11e6-4755-9a62-00ef39ca4c73",
   "metadata": {
    "tags": []
   },
   "source": [
    "<h2>Import Library:</h2>"
   ]
  },
  {
   "cell_type": "code",
   "execution_count": 4,
   "id": "dac247cc-e2ac-4084-bd44-2659115f572f",
   "metadata": {
    "tags": []
   },
   "outputs": [],
   "source": [
    "import pandas as pd\n",
    "import numpy as np\n",
    "import matplotlib.pyplot as plt\n",
    "import time"
   ]
  },
  {
   "cell_type": "markdown",
   "id": "22547ca9-ad5f-423a-8aba-c1b1bd1fa48a",
   "metadata": {
    "tags": []
   },
   "source": [
    "<h2>Data Definition:</h2>"
   ]
  },
  {
   "cell_type": "code",
   "execution_count": 10,
   "id": "02335d43-0fe0-40c3-a4b0-1a3378490de7",
   "metadata": {
    "tags": []
   },
   "outputs": [],
   "source": [
    "def generate_data():\n",
    "    data = pd.read_csv('dataset1.txt')\n",
    "    X = data['X'].to_numpy()\n",
    "    Y = data['Y'].to_numpy()\n",
    "    return X,Y"
   ]
  },
  {
   "cell_type": "code",
   "execution_count": 12,
   "id": "29c09b91-2551-4174-942f-cb20f1b8d764",
   "metadata": {
    "tags": []
   },
   "outputs": [
    {
     "data": {
      "text/html": [
       "<div>\n",
       "<style scoped>\n",
       "    .dataframe tbody tr th:only-of-type {\n",
       "        vertical-align: middle;\n",
       "    }\n",
       "\n",
       "    .dataframe tbody tr th {\n",
       "        vertical-align: top;\n",
       "    }\n",
       "\n",
       "    .dataframe thead th {\n",
       "        text-align: right;\n",
       "    }\n",
       "</style>\n",
       "<table border=\"1\" class=\"dataframe\">\n",
       "  <thead>\n",
       "    <tr style=\"text-align: right;\">\n",
       "      <th></th>\n",
       "      <th>X</th>\n",
       "      <th>Y</th>\n",
       "    </tr>\n",
       "  </thead>\n",
       "  <tbody>\n",
       "    <tr>\n",
       "      <th>0</th>\n",
       "      <td>6.1101</td>\n",
       "      <td>17.59200</td>\n",
       "    </tr>\n",
       "    <tr>\n",
       "      <th>1</th>\n",
       "      <td>5.5277</td>\n",
       "      <td>9.13020</td>\n",
       "    </tr>\n",
       "    <tr>\n",
       "      <th>2</th>\n",
       "      <td>8.5186</td>\n",
       "      <td>13.66200</td>\n",
       "    </tr>\n",
       "    <tr>\n",
       "      <th>3</th>\n",
       "      <td>7.0032</td>\n",
       "      <td>11.85400</td>\n",
       "    </tr>\n",
       "    <tr>\n",
       "      <th>4</th>\n",
       "      <td>5.8598</td>\n",
       "      <td>6.82330</td>\n",
       "    </tr>\n",
       "    <tr>\n",
       "      <th>...</th>\n",
       "      <td>...</td>\n",
       "      <td>...</td>\n",
       "    </tr>\n",
       "    <tr>\n",
       "      <th>92</th>\n",
       "      <td>5.8707</td>\n",
       "      <td>7.20290</td>\n",
       "    </tr>\n",
       "    <tr>\n",
       "      <th>93</th>\n",
       "      <td>5.3054</td>\n",
       "      <td>1.98690</td>\n",
       "    </tr>\n",
       "    <tr>\n",
       "      <th>94</th>\n",
       "      <td>8.2934</td>\n",
       "      <td>0.14454</td>\n",
       "    </tr>\n",
       "    <tr>\n",
       "      <th>95</th>\n",
       "      <td>13.3940</td>\n",
       "      <td>9.05510</td>\n",
       "    </tr>\n",
       "    <tr>\n",
       "      <th>96</th>\n",
       "      <td>5.4369</td>\n",
       "      <td>0.61705</td>\n",
       "    </tr>\n",
       "  </tbody>\n",
       "</table>\n",
       "<p>97 rows × 2 columns</p>\n",
       "</div>"
      ],
      "text/plain": [
       "          X         Y\n",
       "0    6.1101  17.59200\n",
       "1    5.5277   9.13020\n",
       "2    8.5186  13.66200\n",
       "3    7.0032  11.85400\n",
       "4    5.8598   6.82330\n",
       "..      ...       ...\n",
       "92   5.8707   7.20290\n",
       "93   5.3054   1.98690\n",
       "94   8.2934   0.14454\n",
       "95  13.3940   9.05510\n",
       "96   5.4369   0.61705\n",
       "\n",
       "[97 rows x 2 columns]"
      ]
     },
     "execution_count": 12,
     "metadata": {},
     "output_type": "execute_result"
    }
   ],
   "source": [
    "data = pd.read_csv('dataset1.txt')\n",
    "data"
   ]
  },
  {
   "cell_type": "markdown",
   "id": "9d600b87-d428-46f0-8f4d-400f07d13150",
   "metadata": {
    "tags": []
   },
   "source": [
    "<h3>Result:</h3>"
   ]
  },
  {
   "cell_type": "code",
   "execution_count": 3,
   "id": "29265cc9-3dde-4f0a-bb60-1c486276a1e2",
   "metadata": {
    "tags": []
   },
   "outputs": [
    {
     "name": "stdout",
     "output_type": "stream",
     "text": [
      "X:[ 6.1101  5.5277  8.5186  7.0032  5.8598  8.3829  7.4764  8.5781  6.4862\n",
      "  5.0546  5.7107 14.164   5.734   8.4084  5.6407  5.3794  6.3654  5.1301\n",
      "  6.4296  7.0708  6.1891 20.27    5.4901  6.3261  5.5649 18.945  12.828\n",
      " 10.957  13.176  22.203   5.2524  6.5894  9.2482  5.8918  8.2111  7.9334\n",
      "  8.0959  5.6063 12.836   6.3534  5.4069  6.8825 11.708   5.7737  7.8247\n",
      "  7.0931  5.0702  5.8014 11.7     5.5416  7.5402  5.3077  7.4239  7.6031\n",
      "  6.3328  6.3589  6.2742  5.6397  9.3102  9.4536  8.8254  5.1793 21.279\n",
      " 14.908  18.959   7.2182  8.2951 10.236   5.4994 20.341  10.136   7.3345\n",
      "  6.0062  7.2259  5.0269  6.5479  7.5386  5.0365 10.274   5.1077  5.7292\n",
      "  5.1884  6.3557  9.7687  6.5159  8.5172  9.1802  6.002   5.5204  5.0594\n",
      "  5.7077  7.6366  5.8707  5.3054  8.2934 13.394   5.4369]\n",
      "Y:[17.592    9.1302  13.662   11.854    6.8233  11.886    4.3483  12.\n",
      "  6.5987   3.8166   3.2522  15.505    3.1551   7.2258   0.71618  3.5129\n",
      "  5.3048   0.56077  3.6518   5.3893   3.1386  21.767    4.263    5.1875\n",
      "  3.0825  22.638   13.501    7.0467  14.692   24.147   -1.22     5.9966\n",
      " 12.134    1.8495   6.5426   4.5623   4.1164   3.3928  10.117    5.4974\n",
      "  0.55657  3.9115   5.3854   2.4406   6.7318   1.0463   5.1337   1.844\n",
      "  8.0043   1.0179   6.7504   1.8396   4.2885   4.9981   1.4233  -1.4211\n",
      "  2.4756   4.6042   3.9624   5.4141   5.1694  -0.74279 17.929   12.054\n",
      " 17.054    4.8852   5.7442   7.7754   1.0173  20.992    6.6799   4.0259\n",
      "  1.2784   3.3411  -2.6807   0.29678  3.8845   5.7014   6.7526   2.0576\n",
      "  0.47953  0.20421  0.67861  7.5435   5.3436   4.2415   6.7981   0.92695\n",
      "  0.152    2.8214   1.8451   4.2959   7.2029   1.9869   0.14454  9.0551\n",
      "  0.61705]\n"
     ]
    }
   ],
   "source": [
    "X,Y = generate_data()\n",
    "print(f'X:{X}')\n",
    "print(f'Y:{Y}')"
   ]
  },
  {
   "cell_type": "markdown",
   "id": "406c602d-26d1-4559-95bd-d9dffae005f8",
   "metadata": {
    "tags": []
   },
   "source": [
    "<h2>Find Theta:</h2>"
   ]
  },
  {
   "cell_type": "code",
   "execution_count": 4,
   "id": "ed39d95c-20b5-47bf-85f8-c5c7b9c80708",
   "metadata": {
    "tags": []
   },
   "outputs": [],
   "source": [
    "def find_theta():\n",
    "    X,Y = generate_data()\n",
    "    m = len(Y)\n",
    "    X = np.c_[np.ones(m) , X]\n",
    "    theta = np.linalg.inv(X.T @ X) @ X.T @ Y\n",
    "    return theta"
   ]
  },
  {
   "cell_type": "markdown",
   "id": "bcfe66cc-994f-4f8f-a44c-ae345944dff2",
   "metadata": {
    "tags": []
   },
   "source": [
    "<h3>Result:</h3>"
   ]
  },
  {
   "cell_type": "code",
   "execution_count": 5,
   "id": "2a355157-c667-4e5e-978c-6bd24ec98ea7",
   "metadata": {
    "tags": []
   },
   "outputs": [
    {
     "name": "stdout",
     "output_type": "stream",
     "text": [
      "[-3.89578088  1.19303364]\n"
     ]
    }
   ],
   "source": [
    "theta = find_theta()\n",
    "print(theta)"
   ]
  },
  {
   "cell_type": "markdown",
   "id": "fe2ea3db-16f6-4996-b518-ffec26607e6e",
   "metadata": {
    "tags": []
   },
   "source": [
    "<h2>Data Scatter:</h2>"
   ]
  },
  {
   "cell_type": "code",
   "execution_count": 6,
   "id": "00bedc62-651e-4b34-aec9-46d5083f1243",
   "metadata": {
    "tags": []
   },
   "outputs": [
    {
     "data": {
      "image/png": "[encoded data removed]",
      "text/plain": [
       "<Figure size 640x480 with 1 Axes>"
      ]
     },
     "metadata": {},
     "output_type": "display_data"
    }
   ],
   "source": [
    "X,Y = generate_data()\n",
    "plt.scatter(X,Y)\n",
    "plt.xlabel('X')\n",
    "plt.ylabel('Y')\n",
    "plt.show()"
   ]
  },
  {
   "cell_type": "markdown",
   "id": "61f2b570-7025-4367-a84b-63e79e05bb1c",
   "metadata": {
    "tags": []
   },
   "source": [
    "<h2>Close Form:</h2>"
   ]
  },
  {
   "cell_type": "code",
   "execution_count": 8,
   "id": "21d7a75c-b063-47d2-be06-f325e411835f",
   "metadata": {
    "tags": []
   },
   "outputs": [],
   "source": [
    "def close_form():\n",
    "    X,Y = generate_data()\n",
    "    n = len(X)\n",
    "    \n",
    "    #parameter Model\n",
    "    slope_close = 0\n",
    "    intercept_close = 0\n",
    "    learning_rate_close = 0.01\n",
    "    epochs_close = 1500\n",
    "    \n",
    "    #MSE\n",
    "    for _ in range(epochs_close):\n",
    "        Y_pred = slope_close * X + intercept_close\n",
    "        mse = np.mean((Y_pred - Y) ** 2)\n",
    "        gradient_slope_close = (2/n) * np.sum((Y_pred - Y) * X)\n",
    "        gradient_intercept_close = (2/n) * np.sum(Y_pred - Y)\n",
    "        \n",
    "        #update parameter\n",
    "        slope_close -= learning_rate_close * gradient_slope_close\n",
    "        intercept_close -= learning_rate_close * gradient_intercept_close\n",
    "        \n",
    "    return slope_close,intercept_close"
   ]
  },
  {
   "cell_type": "code",
   "execution_count": 11,
   "id": "00a1bcdb-062d-43b5-bc25-ae0689d95b5b",
   "metadata": {
    "tags": []
   },
   "outputs": [
    {
     "name": "stdout",
     "output_type": "stream",
     "text": [
      "theta1 = 1.191261194638165\n",
      "theta0 = -3.878137690865592\n"
     ]
    }
   ],
   "source": [
    "slope_close,intercept_close = close_form()\n",
    "print(f'theta1 = {slope_close}')\n",
    "print(f'theta0 = {intercept_close}')"
   ]
  },
  {
   "cell_type": "code",
   "execution_count": 12,
   "id": "d2571f0c-7b63-4b08-87f0-c937ce4d84fb",
   "metadata": {
    "tags": []
   },
   "outputs": [],
   "source": [
    "slope_close,intercept_close = close_form()\n",
    "p1 = slope_close * 6.2 + intercept_close\n",
    "p2 = slope_close * 12.8 + intercept_close\n",
    "p3 = slope_close * 22.1 + intercept_close\n",
    "p4 = slope_close * 30 + intercept_close"
   ]
  },
  {
   "cell_type": "code",
   "execution_count": 13,
   "id": "e25f26e0-5939-442d-a302-ed811ac06e55",
   "metadata": {
    "tags": []
   },
   "outputs": [
    {
     "name": "stdout",
     "output_type": "stream",
     "text": [
      "p1 = 3.5076817158910316\n",
      "p2 = 11.370005600502921\n",
      "p3 = 22.448734710637858\n",
      "p4 = 31.859698148279357\n"
     ]
    }
   ],
   "source": [
    "print(f'p1 = {p1}')\n",
    "print(f'p2 = {p2}')\n",
    "print(f'p3 = {p3}')\n",
    "print(f'p4 = {p4}')"
   ]
  },
  {
   "cell_type": "markdown",
   "id": "ae1aa6c8-8dbb-4ccc-a6c9-a7363c8e4d8c",
   "metadata": {
    "tags": []
   },
   "source": [
    "<h3>Plot Close Form:</h3>"
   ]
  },
  {
   "cell_type": "code",
   "execution_count": 14,
   "id": "168e2a35-4fb4-4e12-a1ad-bd62ec0e102f",
   "metadata": {
    "tags": []
   },
   "outputs": [
    {
     "data": {
      "image/png": "[encoded data removed]",
      "text/plain": [
       "<Figure size 640x480 with 1 Axes>"
      ]
     },
     "metadata": {},
     "output_type": "display_data"
    }
   ],
   "source": [
    "slope_close,intercept_close = close_form()\n",
    "plt.scatter(X,Y,label = 'data')\n",
    "plt.plot(X,slope_close * X + intercept_close,color = 'red',label = 'Linear regression(close-form)')\n",
    "plt.xlabel('X')\n",
    "plt.ylabel('Y')\n",
    "plt.legend()\n",
    "plt.show()"
   ]
  },
  {
   "cell_type": "markdown",
   "id": "534ef0da-1ff9-4bda-ace4-d21a5f488496",
   "metadata": {
    "tags": []
   },
   "source": [
    "<h2>Online Mode:</h2>"
   ]
  },
  {
   "cell_type": "code",
   "execution_count": 36,
   "id": "42d7050a-b6ae-4cd9-b788-95f83a1e03bd",
   "metadata": {
    "tags": []
   },
   "outputs": [],
   "source": [
    "def online_mode():\n",
    "    X,Y = generate_data()\n",
    "    n = len(X)\n",
    "    \n",
    "    #parameter Model\n",
    "    slope_online = 0\n",
    "    intercept_online = 0\n",
    "    learning_rate_online = 0.01\n",
    "    interations_online = 1500\n",
    "    \n",
    "    #Model training\n",
    "    for _ in range(interations_online):\n",
    "        random_index = np.random.randint(0,n)\n",
    "        X_random = X[random_index]\n",
    "        Y_random = Y[random_index]\n",
    "        \n",
    "        Y_pred = slope_online * X_random + intercept_online\n",
    "        error = Y_pred - Y_random\n",
    "        \n",
    "        slope_online -= learning_rate_online * error * X_random\n",
    "        intercept_online -= learning_rate_online * error\n",
    "        \n",
    "    return slope_online,intercept_online"
   ]
  },
  {
   "cell_type": "code",
   "execution_count": 37,
   "id": "51401747-3f9b-4e52-8aff-46436d6900a0",
   "metadata": {
    "tags": []
   },
   "outputs": [
    {
     "name": "stdout",
     "output_type": "stream",
     "text": [
      "theta1 = 1.4724831881800067\n",
      "theta0 = -3.383070782517536\n"
     ]
    }
   ],
   "source": [
    "slope_online,intercept_online = online_mode()\n",
    "print(f'theta1 = {slope_online}')\n",
    "print(f'theta0 = {intercept_online}')"
   ]
  },
  {
   "cell_type": "markdown",
   "id": "f95307cc-c0d7-43d7-946f-84311a6d0e2f",
   "metadata": {
    "tags": []
   },
   "source": [
    "<h3>Predict:</h3>"
   ]
  },
  {
   "cell_type": "code",
   "execution_count": 38,
   "id": "c783e015-a7a9-4749-8ec5-26f40f108ba7",
   "metadata": {
    "tags": []
   },
   "outputs": [],
   "source": [
    "slope_online,intercept_online = online_mode()\n",
    "p1 = slope_online * 6.2 + intercept_online\n",
    "p2 = slope_online * 12.8 + intercept_online\n",
    "p3 = slope_online * 22.1 + intercept_online\n",
    "p4 = slope_online * 30 + intercept_online"
   ]
  },
  {
   "cell_type": "code",
   "execution_count": 39,
   "id": "29fa3ff4-ac6e-406e-aea3-ae4471c6598b",
   "metadata": {
    "tags": []
   },
   "outputs": [
    {
     "name": "stdout",
     "output_type": "stream",
     "text": [
      "p1 = 2.311182318232107\n",
      "p2 = 8.51010988947305\n",
      "p3 = 17.24496237622165\n",
      "p4 = 24.664890832707016\n"
     ]
    }
   ],
   "source": [
    "print(f'p1 = {p1}')\n",
    "print(f'p2 = {p2}')\n",
    "print(f'p3 = {p3}')\n",
    "print(f'p4 = {p4}')"
   ]
  },
  {
   "cell_type": "markdown",
   "id": "acd54e45-0714-4a30-a4fb-323440770f91",
   "metadata": {
    "tags": []
   },
   "source": [
    "<h3>Plot the cost function 𝐽(θ) along the epochs</h3>"
   ]
  },
  {
   "cell_type": "code",
   "execution_count": 40,
   "id": "00ac5037-03f4-4f85-b076-9d8893d35be1",
   "metadata": {
    "tags": []
   },
   "outputs": [],
   "source": [
    "def predict(X,slope_online):\n",
    "    h_theta = X*slope_online\n",
    "    \n",
    "    return h_theta"
   ]
  },
  {
   "cell_type": "code",
   "execution_count": 41,
   "id": "11bb7cf9-11bf-4754-bede-c77b5b4f3b9b",
   "metadata": {
    "tags": []
   },
   "outputs": [],
   "source": [
    "def cost_online(h_theta,Y):\n",
    "    m=Y.shape[0]\n",
    "    j = (1/(2*m))*np.dot((h_theta-Y).T,(h_theta-Y))\n",
    "    return j"
   ]
  },
  {
   "cell_type": "code",
   "execution_count": 42,
   "id": "3f9a10ca-76d2-478d-821d-fe8f0c338fa0",
   "metadata": {
    "tags": []
   },
   "outputs": [],
   "source": [
    "def grad(X,h_theta,Y):\n",
    "    m=Y.shape[0]\n",
    "    grad = (1/m)*((h_theta-Y).T*X).T\n",
    "    return grad"
   ]
  },
  {
   "cell_type": "code",
   "execution_count": 53,
   "id": "7d4a8591-ab01-4536-9e79-a37822c41b01",
   "metadata": {
    "tags": []
   },
   "outputs": [],
   "source": [
    "learning_rate=0.01\n",
    "iterations = 1500\n",
    "j_history=[]"
   ]
  },
  {
   "cell_type": "code",
   "execution_count": 54,
   "id": "981cedb2-e7f6-4fa7-9dd4-34390f908967",
   "metadata": {
    "tags": []
   },
   "outputs": [],
   "source": [
    "for i in range(iterations):\n",
    "    m = Y.shape[0]\n",
    "    h_theta = predict(X,slope_online)\n",
    "    cost = cost_online(h_theta,Y)\n",
    "    grad = (1/m)*((h_theta-Y).T*X).T\n",
    "    slope_online = slope_online-learning_rate*grad\n",
    "    j_history.append(cost)\n",
    "    #print(\"Epoch :\",i,\"Cost :\",cost)"
   ]
  },
  {
   "cell_type": "code",
   "execution_count": 55,
   "id": "44c03d55-c7de-4c22-adf7-913bfffe8ff1",
   "metadata": {
    "tags": []
   },
   "outputs": [
    {
     "data": {
      "text/plain": [
       "(1500,)"
      ]
     },
     "execution_count": 55,
     "metadata": {},
     "output_type": "execute_result"
    }
   ],
   "source": [
    "np.shape(j_history)"
   ]
  },
  {
   "cell_type": "code",
   "execution_count": 56,
   "id": "f50c916e-c53b-48bc-8cb0-eb389134a015",
   "metadata": {
    "tags": []
   },
   "outputs": [
    {
     "data": {
      "text/plain": [
       "Text(0.5, 1.0, 'Cost function VS iterations')"
      ]
     },
     "execution_count": 56,
     "metadata": {},
     "output_type": "execute_result"
    },
    {
     "data": {
      "image/png": "[encoded data removed]",
      "text/plain": [
       "<Figure size 640x480 with 1 Axes>"
      ]
     },
     "metadata": {},
     "output_type": "display_data"
    }
   ],
   "source": [
    "x=np.linspace(0,iterations,iterations)\n",
    "plt.ylabel('cost function') \n",
    "plt.plot(x,j_history,color='r') \n",
    "plt.xlabel('No. of iterations')\n",
    "plt.title('Cost function VS iterations')"
   ]
  },
  {
   "cell_type": "markdown",
   "id": "ead62b06-9d32-4a7a-9e2f-ec6556839e7f",
   "metadata": {
    "tags": []
   },
   "source": [
    "<h3>Plot Online Mode:</h3>"
   ]
  },
  {
   "cell_type": "code",
   "execution_count": 57,
   "id": "43285d0a-3a29-4174-82f9-39f92dc325f7",
   "metadata": {
    "tags": []
   },
   "outputs": [
    {
     "data": {
      "image/png": "[encoded data removed]",
      "text/plain": [
       "<Figure size 640x480 with 1 Axes>"
      ]
     },
     "metadata": {},
     "output_type": "display_data"
    }
   ],
   "source": [
    "slope_online,intercept_online = online_mode()\n",
    "plt.scatter(X,Y,label = 'data')\n",
    "plt.plot(X,slope_online * X + intercept_online,color = 'red',label = 'Linear regression(online-mode)')\n",
    "plt.xlabel('X')\n",
    "plt.ylabel('Y')\n",
    "plt.legend()\n",
    "plt.show()"
   ]
  },
  {
   "cell_type": "markdown",
   "id": "8ea1bd00-64d4-4b9d-b26f-f03955d96a25",
   "metadata": {
    "tags": []
   },
   "source": [
    "<h2>Batch Mode:</h2>"
   ]
  },
  {
   "cell_type": "code",
   "execution_count": 58,
   "id": "add6ea0f-70f0-4efc-b10d-d4b905968a23",
   "metadata": {
    "tags": []
   },
   "outputs": [],
   "source": [
    "def batch_mode():\n",
    "    X,Y = generate_data()\n",
    "    n = len(X)\n",
    "    \n",
    "    #parameter Model\n",
    "    slope_batch = 0\n",
    "    intercept_batch = 0\n",
    "    learning_rate_batch = 0.01\n",
    "    iterations_batch = 1500\n",
    "    \n",
    "    #Model training\n",
    "    for _ in range(iterations_batch):\n",
    "        Y_pred = slope_batch * X + intercept_batch\n",
    "        error = Y_pred - Y\n",
    "        \n",
    "        gradient_slope_batch = (2/n) * np.sum(error * X)\n",
    "        gradient_intercept_batch = (2/n) * np.sum(error)\n",
    "        \n",
    "        slope_batch -= learning_rate_batch * gradient_slope_batch\n",
    "        intercept_batch -= learning_rate_batch * gradient_intercept_batch\n",
    "        \n",
    "    return slope_batch,intercept_batch"
   ]
  },
  {
   "cell_type": "markdown",
   "id": "d49ed2ca-409e-4b61-a3d2-572de4898131",
   "metadata": {
    "tags": []
   },
   "source": [
    "<h3>Predict:</h3>"
   ]
  },
  {
   "cell_type": "code",
   "execution_count": 59,
   "id": "5861a8ac-1cbf-4fff-a832-97348053bd2c",
   "metadata": {
    "tags": []
   },
   "outputs": [],
   "source": [
    "slope_batch,intercept_batch = batch_mode()\n",
    "p1 = slope_batch * 6.2 + intercept_batch\n",
    "p2 = slope_batch * 12.8 + intercept_batch\n",
    "p3 = slope_batch * 22.1 + intercept_batch\n",
    "p4 = slope_batch * 30 + intercept_batch"
   ]
  },
  {
   "cell_type": "code",
   "execution_count": 60,
   "id": "0bb1e71f-3efc-4d52-bc5e-6cefcc73477b",
   "metadata": {
    "tags": []
   },
   "outputs": [
    {
     "name": "stdout",
     "output_type": "stream",
     "text": [
      "p1 = 3.5076817158910316\n",
      "p2 = 11.370005600502921\n",
      "p3 = 22.448734710637858\n",
      "p4 = 31.859698148279357\n"
     ]
    }
   ],
   "source": [
    "print(f'p1 = {p1}')\n",
    "print(f'p2 = {p2}')\n",
    "print(f'p3 = {p3}')\n",
    "print(f'p4 = {p4}')"
   ]
  },
  {
   "cell_type": "markdown",
   "id": "07423982-986a-4e6d-9a20-3c6ce8869d89",
   "metadata": {
    "tags": []
   },
   "source": [
    "<h3>Plot the cost function 𝐽(θ) along the epochs:</h3>"
   ]
  },
  {
   "cell_type": "code",
   "execution_count": 61,
   "id": "657bf005-1dfb-4fd9-a711-95ce568d0356",
   "metadata": {
    "tags": []
   },
   "outputs": [],
   "source": [
    "def predict(X,slope_batch):\n",
    "    h_theta = X*slope_batch\n",
    "    \n",
    "    return h_theta"
   ]
  },
  {
   "cell_type": "code",
   "execution_count": 62,
   "id": "5bea2a7d-cf63-46ad-8433-b03449f67688",
   "metadata": {
    "tags": []
   },
   "outputs": [],
   "source": [
    "def cost_batch(h_theta,Y):\n",
    "    m=Y.shape[0]\n",
    "    j = (1/(2*m))*np.dot((h_theta-Y).T,(h_theta-Y))\n",
    "    return j"
   ]
  },
  {
   "cell_type": "code",
   "execution_count": 63,
   "id": "baa4f02d-1c1a-46c6-822d-dc801f00630f",
   "metadata": {
    "tags": []
   },
   "outputs": [],
   "source": [
    "def grad(X,h_theta,Y):\n",
    "    m=Y.shape[0]\n",
    "    grad = (1/m)*((h_theta-Y).T*X).T\n",
    "    return grad"
   ]
  },
  {
   "cell_type": "code",
   "execution_count": 64,
   "id": "d6538c88-ff0a-4ea9-bdab-a110358926ea",
   "metadata": {
    "tags": []
   },
   "outputs": [],
   "source": [
    "learning_rate=0.01\n",
    "iterations = 1500\n",
    "j_history=[]"
   ]
  },
  {
   "cell_type": "code",
   "execution_count": 65,
   "id": "4fb8360d-64ed-447d-a1f3-c26511c0fd1b",
   "metadata": {
    "tags": []
   },
   "outputs": [],
   "source": [
    "for i in range(iterations):\n",
    "    h_theta = predict(X,slope_batch)\n",
    "    cost = cost_batch(h_theta,Y)\n",
    "    grad = (1/m)*((h_theta-Y).T*X).T\n",
    "    slope_batch = slope_batch-learning_rate*grad\n",
    "    j_history.append(cost)\n",
    "    #print(\"Epoch :\",i,\"Cost :\",cost)"
   ]
  },
  {
   "cell_type": "code",
   "execution_count": 66,
   "id": "1400a8dd-e818-4089-932e-c696b68f3237",
   "metadata": {
    "tags": []
   },
   "outputs": [
    {
     "data": {
      "text/plain": [
       "(1500,)"
      ]
     },
     "execution_count": 66,
     "metadata": {},
     "output_type": "execute_result"
    }
   ],
   "source": [
    "np.shape(j_history)"
   ]
  },
  {
   "cell_type": "code",
   "execution_count": 67,
   "id": "514b49b4-f463-44eb-8ae9-b05ff588a3ff",
   "metadata": {
    "tags": []
   },
   "outputs": [
    {
     "data": {
      "text/plain": [
       "Text(0.5, 1.0, 'cost function VS iterations')"
      ]
     },
     "execution_count": 67,
     "metadata": {},
     "output_type": "execute_result"
    },
    {
     "data": {
      "image/png": "[encoded data removed]",
      "text/plain": [
       "<Figure size 640x480 with 1 Axes>"
      ]
     },
     "metadata": {},
     "output_type": "display_data"
    }
   ],
   "source": [
    "x=np.linspace(0,iterations,iterations)\n",
    "plt.ylabel('cost function') \n",
    "plt.plot(x,j_history,color='r') \n",
    "plt.xlabel('No. of iterations')\n",
    "plt.title('cost function VS iterations')"
   ]
  },
  {
   "cell_type": "markdown",
   "id": "eef8da4b-d082-409d-94b8-3637519b0139",
   "metadata": {
    "tags": []
   },
   "source": [
    "<h3>Plot Batch Mode:</h3>"
   ]
  },
  {
   "cell_type": "code",
   "execution_count": 68,
   "id": "a8a1a9fd-966f-4d4a-bcee-01a40d0be7c5",
   "metadata": {
    "tags": []
   },
   "outputs": [
    {
     "data": {
      "image/png": "[encoded data removed]",
      "text/plain": [
       "<Figure size 640x480 with 1 Axes>"
      ]
     },
     "metadata": {},
     "output_type": "display_data"
    }
   ],
   "source": [
    "slope_batch,intercept_batch = batch_mode()\n",
    "plt.scatter(X,Y,label = 'data')\n",
    "plt.plot(X,slope_batch * X + intercept_batch,color = 'red',label = 'Linear regression(batch-mode)')\n",
    "plt.xlabel('X')\n",
    "plt.ylabel('Y')\n",
    "plt.legend()\n",
    "plt.show()"
   ]
  },
  {
   "cell_type": "markdown",
   "id": "85aea72c-8e75-43dd-8cfd-2b7b3e00de77",
   "metadata": {
    "tags": []
   },
   "source": [
    "<h2>Plot Close-Form,Online-Mode,Batch-Mode</h2>"
   ]
  },
  {
   "cell_type": "code",
   "execution_count": 69,
   "id": "82549614-4e7a-41a3-bce7-3026db21ad64",
   "metadata": {
    "tags": []
   },
   "outputs": [
    {
     "data": {
      "image/png": "[encoded data removed]",
      "text/plain": [
       "<Figure size 640x480 with 1 Axes>"
      ]
     },
     "metadata": {},
     "output_type": "display_data"
    }
   ],
   "source": [
    "slope_close,intercept_close = close_form()\n",
    "slope_online,intercept_online = online_mode()\n",
    "slope_batch,intercept_batch = batch_mode()\n",
    "plt.scatter(X,Y,label = 'data')\n",
    "plt.plot(X,slope_online * X + intercept_online,color = 'red',label = 'Linear regression(online-mode)')\n",
    "plt.plot(X,slope_batch * X + intercept_batch,color = 'green',label = 'Linear regression(batch-mode)')\n",
    "plt.plot(X,slope_close * X + intercept_close,color = 'grey',label = 'close-form',linestyle='dotted')\n",
    "plt.xlabel('X')\n",
    "plt.ylabel('Y')\n",
    "plt.legend()\n",
    "plt.show()"
   ]
  },
  {
   "cell_type": "markdown",
   "id": "28bc0a14-a54f-42ca-9fa5-46e7325f86ee",
   "metadata": {
    "tags": []
   },
   "source": [
    "<h2>Which type of G.D. (online\\batch) do you prefer here? Why?</h2>"
   ]
  },
  {
   "cell_type": "markdown",
   "id": "5dc46500-cd7d-4e15-abc0-d95b75ef5359",
   "metadata": {},
   "source": [
    "In this matter, according to the arrangement of the data and the results obtained from online-mode, in my opinion, the batch-mode method is more suitable.\n",
    "\n",
    "For this reason, I suggest batch-mode because our data range is small in this problem.\n",
    "\n",
    "In my opinion, batch-mode shows a better result in this issue\n",
    "\n",
    "Therefore, it is better to use this method."
   ]
  }
 ],
 "metadata": {
  "kernelspec": {
   "display_name": "Python 3 (ipykernel)",
   "language": "python",
   "name": "python3"
  },
  "language_info": {
   "codemirror_mode": {
    "name": "ipython",
    "version": 3
   },
   "file_extension": ".py",
   "mimetype": "text/x-python",
   "name": "python",
   "nbconvert_exporter": "python",
   "pygments_lexer": "ipython3",
   "version": "3.11.5"
  }
 },
 "nbformat": 4,
 "nbformat_minor": 5
}
